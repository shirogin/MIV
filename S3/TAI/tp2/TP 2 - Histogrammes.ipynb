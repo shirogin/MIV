{
 "cells": [
  {
   "cell_type": "markdown",
   "metadata": {},
   "source": [
    "# TP à rendre 2 Egalisation d'histogrammes\n",
    "Dans ce TP, nous aimerions améliorer le contraste d'images par deux méthodes. Une méthode d'expansion de la dynamique, et une méthode d'égalisaton d'histogramme. La première image à traiter est dans un fichier npy à loader. Le reste des images sont dans le même dossier. "
   ]
  },
  {
   "cell_type": "code",
   "execution_count": 1,
   "metadata": {},
   "outputs": [],
   "source": [
    "import numpy as np\n",
    "import cv2\n",
    "import matplotlib.pyplot as plt"
   ]
  },
  {
   "cell_type": "markdown",
   "metadata": {},
   "source": [
    "# Lire et afficher l'image à utiliser"
   ]
  },
  {
   "cell_type": "code",
   "execution_count": 2,
   "metadata": {},
   "outputs": [],
   "source": [
    "image = np.genfromtxt('image.csv', delimiter=';')"
   ]
  },
  {
   "cell_type": "code",
   "execution_count": 3,
   "metadata": {},
   "outputs": [
    {
     "data": {
      "text/plain": [
       "<matplotlib.image.AxesImage at 0x23e40f38d30>"
      ]
     },
     "execution_count": 3,
     "metadata": {},
     "output_type": "execute_result"
    },
    {
     "data": {
      "image/png": "[encoded data removed]",
      "text/plain": [
       "<Figure size 432x288 with 1 Axes>"
      ]
     },
     "metadata": {
      "needs_background": "light"
     },
     "output_type": "display_data"
    }
   ],
   "source": [
    "plt.imshow(image,cmap='gray')"
   ]
  },
  {
   "cell_type": "markdown",
   "metadata": {},
   "source": [
    "# Calculer les métriques sur l'image\n",
    "1.\tCalculer la moyenne de luminance de l’image.\n",
    "2.\tDonner la dynamique de l’image (intervalle [Lmin, Lmax]).\n",
    "3.\tCalculer le contraste de l’image.\n",
    "4.\tCalculer l’écart type des niveaux de gris de l’image.\n"
   ]
  },
  {
   "cell_type": "code",
   "execution_count": 17,
   "metadata": {},
   "outputs": [
    {
     "data": {
      "text/plain": [
       "'moyenne : 76.078125'"
      ]
     },
     "execution_count": 17,
     "metadata": {},
     "output_type": "execute_result"
    }
   ],
   "source": [
    "# la moyenne de luminance de l’image.\n",
    "moyenne=np.mean(image)\n",
    "\"moyenne : \"+ str(moyenne)"
   ]
  },
  {
   "cell_type": "code",
   "execution_count": 28,
   "metadata": {},
   "outputs": [
    {
     "data": {
      "text/plain": [
       "(52.0, 154.0)"
      ]
     },
     "execution_count": 28,
     "metadata": {},
     "output_type": "execute_result"
    }
   ],
   "source": [
    "#  la dynamique de l’image\n",
    "Lmin,Lmax=np.min(image),np.max(image)\n",
    "(Lmin,Lmax)"
   ]
  },
  {
   "cell_type": "code",
   "execution_count": 29,
   "metadata": {},
   "outputs": [
    {
     "data": {
      "text/plain": [
       "0.49514563106796117"
      ]
     },
     "execution_count": 29,
     "metadata": {},
     "output_type": "execute_result"
    }
   ],
   "source": [
    "# le contraste de l’image\n",
    "contraste=(Lmax-Lmin)/(Lmax+Lmin)\n",
    "contraste"
   ]
  },
  {
   "cell_type": "markdown",
   "metadata": {},
   "source": [
    "# Histogramme et histogramme cumulé\n",
    "5.\tConstruire l’histogramme de cette image ainsi que son histogramme normalisé.\n",
    "6.\tConstruire l’histogramme cumulé de cette image ainsi que son histogramme cumulé normalisé.\n"
   ]
  },
  {
   "cell_type": "code",
   "execution_count": 58,
   "metadata": {},
   "outputs": [
    {
     "name": "stdout",
     "output_type": "stream",
     "text": [
      "{52.0: 0.015625, 55.0: 0.046875, 58.0: 0.03125, 59.0: 0.046875, 60.0: 0.015625, 61.0: 0.0625, 62.0: 0.015625, 63.0: 0.03125, 64.0: 0.03125, 65.0: 0.046875, 66.0: 0.03125, 67.0: 0.015625, 68.0: 0.078125, 69.0: 0.046875, 70.0: 0.0625, 71.0: 0.03125, 72.0: 0.015625, 73.0: 0.03125, 75.0: 0.015625, 76.0: 0.015625, 77.0: 0.015625, 78.0: 0.015625, 79.0: 0.03125, 83.0: 0.015625, 85.0: 0.03125, 87.0: 0.015625, 88.0: 0.015625, 90.0: 0.015625, 94.0: 0.015625, 104.0: 0.03125, 106.0: 0.015625, 109.0: 0.015625, 113.0: 0.015625, 122.0: 0.015625, 126.0: 0.015625, 144.0: 0.015625, 154.0: 0.015625}\n"
     ]
    },
    {
     "data": {
      "image/png": "[encoded data removed]",
      "text/plain": [
       "<Figure size 432x288 with 1 Axes>"
      ]
     },
     "metadata": {
      "needs_background": "light"
     },
     "output_type": "display_data"
    }
   ],
   "source": [
    "unique,counts= np.unique(image,return_counts=True)\n",
    "histogram = dict(zip(unique,counts))\n",
    "histogramN={}\n",
    "for i,val in histogram.items():\n",
    "    histogramN[i]=val/64\n",
    "print(histogramN)\n",
    "plt.hist(image)\n",
    "plt.show()"
   ]
  },
  {
   "cell_type": "markdown",
   "metadata": {},
   "source": [
    "# Comparer votre implémentation aux fonctions de opencv"
   ]
  },
  {
   "cell_type": "code",
   "execution_count": 5,
   "metadata": {},
   "outputs": [],
   "source": [
    "#cv2.calcHist"
   ]
  },
  {
   "cell_type": "markdown",
   "metadata": {},
   "source": [
    "- Expliquer la difference.\n",
    "- comparer aussi avec les méthodes des autres librairies."
   ]
  },
  {
   "cell_type": "markdown",
   "metadata": {},
   "source": [
    "# 7.\tEtendre l’histogramme et visualiser l’image résultante."
   ]
  },
  {
   "cell_type": "code",
   "execution_count": null,
   "metadata": {},
   "outputs": [],
   "source": []
  },
  {
   "cell_type": "markdown",
   "metadata": {},
   "source": [
    "# 8.\tComparer les histogrammes des deux images ; originale et étendue"
   ]
  },
  {
   "cell_type": "code",
   "execution_count": null,
   "metadata": {},
   "outputs": [],
   "source": []
  },
  {
   "cell_type": "markdown",
   "metadata": {},
   "source": [
    "# Expansion de la dynamique et comparaison avec l'égalisation d'histogramme"
   ]
  },
  {
   "cell_type": "code",
   "execution_count": null,
   "metadata": {},
   "outputs": [],
   "source": []
  },
  {
   "cell_type": "markdown",
   "metadata": {},
   "source": [
    "# Améliorer le contraste des images données\n",
    "améliorer le contraste des 3 images envoyées avec les méthodes implémentées precedemment."
   ]
  },
  {
   "cell_type": "code",
   "execution_count": null,
   "metadata": {},
   "outputs": [],
   "source": []
  },
  {
   "cell_type": "markdown",
   "metadata": {},
   "source": [
    "# Consignes\n",
    "Le travail est à remettre par groupe de 4 au maximum [1..4].\n",
    "\n",
    "Le délai est le vendredi à 19h\n"
   ]
  },
  {
   "cell_type": "code",
   "execution_count": null,
   "metadata": {},
   "outputs": [],
   "source": [
    "# bonne chance"
   ]
  }
 ],
 "metadata": {
  "interpreter": {
   "hash": "b3ba2566441a7c06988d0923437866b63cedc61552a5af99d1f4fb67d367b25f"
  },
  "kernelspec": {
   "display_name": "Python 3.8.8 64-bit ('base': conda)",
   "name": "python3"
  },
  "language_info": {
   "codemirror_mode": {
    "name": "ipython",
    "version": 3
   },
   "file_extension": ".py",
   "mimetype": "text/x-python",
   "name": "python",
   "nbconvert_exporter": "python",
   "pygments_lexer": "ipython3",
   "version": "3.8.8"
  }
 },
 "nbformat": 4,
 "nbformat_minor": 2
}
